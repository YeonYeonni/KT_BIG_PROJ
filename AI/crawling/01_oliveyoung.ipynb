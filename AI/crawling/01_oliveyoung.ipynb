{
 "cells": [
  {
   "cell_type": "code",
   "execution_count": 1,
   "id": "db80fec2",
   "metadata": {},
   "outputs": [],
   "source": [
    "import pandas as pd\n",
    "import requests\n",
    "from bs4 import BeautifulSoup\n",
    "import pyautogui\n",
    "import pickle\n",
    "\n",
    "from selenium import webdriver\n",
    "from selenium.webdriver.common.by import By\n",
    "\n",
    "from tqdm import tqdm"
   ]
  },
  {
   "cell_type": "markdown",
   "id": "ea2a771b",
   "metadata": {},
   "source": [
    "## 제품 ID"
   ]
  },
  {
   "cell_type": "markdown",
   "id": "d52c1022",
   "metadata": {},
   "source": [
    "#### 토너/로션/올인원"
   ]
  },
  {
   "cell_type": "code",
   "execution_count": 249,
   "id": "3f0b0eb1",
   "metadata": {},
   "outputs": [
    {
     "name": "stderr",
     "output_type": "stream",
     "text": [
      "100%|██████████████████████████████████████████████████████████████████████████████████| 33/33 [00:33<00:00,  1.00s/it]\n"
     ]
    }
   ],
   "source": [
    "array = []\n",
    "\n",
    "for i in tqdm(range(1, 34)):\n",
    "    url = f'https://www.oliveyoung.co.kr/store/display/getMCategoryList.do?dispCatNo=100000100010008&fltDispCatNo=&prdSort=01&pageIdx={i}&rowsPerPage=24&searchTypeSort=btn_thumb&plusButtonFlag=N&isLoginCnt=0&aShowCnt=0&bShowCnt=0&cShowCnt=0&trackingCd=Cat100000100010008_Small'\n",
    "    response = requests.get(url)\n",
    "    dom = BeautifulSoup(response.text, 'html.parser')\n",
    "    test = dom.select('.cate_prd_list > li')\n",
    "    for j in range(len(test)):\n",
    "        array.append(test[j]['criteo-goods'][0:-3])"
   ]
  },
  {
   "cell_type": "code",
   "execution_count": 250,
   "id": "eef1dedb",
   "metadata": {},
   "outputs": [
    {
     "data": {
      "text/plain": [
       "773"
      ]
     },
     "execution_count": 250,
     "metadata": {},
     "output_type": "execute_result"
    }
   ],
   "source": [
    "# 773\n",
    "len(array)"
   ]
  },
  {
   "cell_type": "code",
   "execution_count": 251,
   "id": "552acb84",
   "metadata": {},
   "outputs": [],
   "source": [
    "driver = webdriver.Chrome()\n",
    "face_type1 = []\n",
    "count = 0"
   ]
  },
  {
   "cell_type": "code",
   "execution_count": 276,
   "id": "8b8785cc",
   "metadata": {},
   "outputs": [
    {
     "name": "stdout",
     "output_type": "stream",
     "text": [
      "746 . 모든피부용\n",
      "747 . 모든피부용\n",
      "748 . 모든 피부용\n",
      "749 . 모든 피부용\n",
      "750 . 모든피부용\n",
      "751 . 모든 피부용\n",
      "752 . 모든 피부용\n",
      "753 . 모든 피부용\n",
      "754 . 모든 피부용\n",
      "755 . 모든피부용\n",
      "756 . 모든 피부용\n",
      "757 . 모든피부용\n",
      "758 . 모든 피부용\n",
      "759 . 6중 히알루론산과 사크란 성분이 극건성 피부에 촉촉한 미라클 보습을 선사하는 프리미엄 고보습 화장수\n",
      "760 . 모든 피부타입\n",
      "761 . 6중 히알루론산과 사크란 성분이 극건성 피부에 촉촉한 미라클 보습을 선사하는 프리미엄 고보습 모이스처라이저\n",
      "762 . 모든 피부용\n",
      "763 . 모든피부용\n",
      "764 . 애프터 쉐이브 우드향\n",
      "765 . 모든피부타입\n",
      "766 . 모든피부타입\n",
      "767 . 모든피부용\n",
      "768 . 모든 피부용\n",
      "769 . 모든피부용\n",
      "770 . 모든피부용\n",
      "771 . 모든 피부 타입\n",
      "772 . 모든 피부\n"
     ]
    }
   ],
   "source": [
    "for i in array[746:]:\n",
    "    url = f'https://www.oliveyoung.co.kr/store/goods/getGoodsDetail.do?goodsNo={i}&dispCatNo=100000100010008&trackingCd=Cat100000100010008_Small'\n",
    "    driver.get(url)\n",
    "    search = driver.find_element(\"id\", \"buyInfo\")\n",
    "    search.click()\n",
    "    \n",
    "    driver.implicitly_wait(3)\n",
    "    tmp = driver.find_elements(By.CSS_SELECTOR, \"#artcInfo > .detail_info_list\")\n",
    "    \n",
    "    driver.implicitly_wait(3)\n",
    "    face_type1.append(tmp[1].text[9:])\n",
    "    \n",
    "    print(count,\".\", tmp[1].text[9:])\n",
    "    count += 1"
   ]
  },
  {
   "cell_type": "code",
   "execution_count": null,
   "id": "c0ae0984",
   "metadata": {},
   "outputs": [],
   "source": [
    "# 상품이 없을 경우 실행\n",
    "# count += 1\n",
    "# face_type2.append(\" \")"
   ]
  },
  {
   "cell_type": "code",
   "execution_count": 277,
   "id": "bf8e9fe5",
   "metadata": {},
   "outputs": [
    {
     "name": "stdout",
     "output_type": "stream",
     "text": [
      "773\n",
      "773\n"
     ]
    }
   ],
   "source": [
    "# 774\n",
    "print(count)\n",
    "print(len(face_type1))"
   ]
  },
  {
   "cell_type": "code",
   "execution_count": 278,
   "id": "b95fac62",
   "metadata": {},
   "outputs": [],
   "source": [
    "with open('face_type1.pickle', 'wb') as f:\n",
    "    pickle.dump(face_type1, f)"
   ]
  },
  {
   "cell_type": "markdown",
   "id": "963b0cf2",
   "metadata": {},
   "source": [
    "#### 에센스/크림"
   ]
  },
  {
   "cell_type": "code",
   "execution_count": 223,
   "id": "45a7d281",
   "metadata": {},
   "outputs": [
    {
     "name": "stderr",
     "output_type": "stream",
     "text": [
      "100%|██████████████████████████████████████████████████████████████████████████████████| 49/49 [00:44<00:00,  1.11it/s]\n"
     ]
    }
   ],
   "source": [
    "array = []\n",
    "\n",
    "for i in tqdm(range(1, 50)):\n",
    "    url = f'https://www.oliveyoung.co.kr/store/display/getMCategoryList.do?dispCatNo=100000100010009&fltDispCatNo=&prdSort=01&pageIdx={i}&rowsPerPage=24&searchTypeSort=btn_thumb&plusButtonFlag=N&isLoginCnt=0&aShowCnt=&bShowCnt=&cShowCnt=&trackingCd=Cat100000100010009_Small'\n",
    "    response = requests.get(url)\n",
    "    dom = BeautifulSoup(response.text, 'html.parser')\n",
    "    test = dom.select('.cate_prd_list > li')\n",
    "    for j in range(len(test)):\n",
    "        array.append(test[j]['criteo-goods'][0:-3])"
   ]
  },
  {
   "cell_type": "code",
   "execution_count": 224,
   "id": "493c593e",
   "metadata": {},
   "outputs": [
    {
     "data": {
      "text/plain": [
       "1163"
      ]
     },
     "execution_count": 224,
     "metadata": {},
     "output_type": "execute_result"
    }
   ],
   "source": [
    "# 1163\n",
    "len(array)"
   ]
  },
  {
   "cell_type": "code",
   "execution_count": 95,
   "id": "77f2de29",
   "metadata": {},
   "outputs": [],
   "source": [
    "driver = webdriver.Chrome()\n",
    "face_type2 = []\n",
    "count = 0"
   ]
  },
  {
   "cell_type": "code",
   "execution_count": 187,
   "id": "093e36b8",
   "metadata": {},
   "outputs": [
    {
     "name": "stdout",
     "output_type": "stream",
     "text": [
      "1143 . 모든피부\n",
      "1144 . 모든 피부 사용\n",
      "1145 . 모든 피부 사용\n",
      "1146 . 모든피부\n",
      "1147 . 모든 피부 타입\n",
      "1148 . 분홍색, 무향\n",
      "1149 . 모든 피부\n",
      "1150 . 모든 피부 타입\n",
      "1151 . 모든 피부용\n",
      "1152 . 모든피부\n",
      "1153 . 모든 피부 타입\n",
      "1154 . 모든 피부용 (민감피부도 사용가능)\n",
      "1155 . 모든 피부\n",
      "1156 . 모든 피부타입\n",
      "1157 . 모든피부용도\n",
      "1158 . 모든 피부용\n",
      "1159 . 모든 피부용\n",
      "1160 . 모든 피부용\n",
      "1161 . 모든피부용도\n",
      "1162 . 모든 피부용\n",
      "1163 . ■ 모든 피부 타입\n",
      "1164 . 모든 피부 타입\n",
      "1165 . 모든 피부 타입\n",
      "1166 . 모든피부용\n",
      "1167 . 모든피부용\n",
      "1168 . 매일 쌓이는 ‘칙칙함, 축축처짐, 푸석함’ 3가지 피부 피로 흔적을 지우는 유자C 생기 캡슐™ + 비타민 5종 + 타우린 1,000 ppm을 담은 바르는 유자C 멀티 비타민\n",
      "1169 . 모든 타입용\n"
     ]
    }
   ],
   "source": [
    "for i in array:\n",
    "    url = f'https://www.oliveyoung.co.kr/store/goods/getGoodsDetail.do?goodsNo={i}&dispCatNo=100000100010008&trackingCd=Cat100000100010008_Small'\n",
    "    driver.get(url)\n",
    "    search = driver.find_element(\"id\", \"buyInfo\")\n",
    "    search.click()\n",
    "    \n",
    "    driver.implicitly_wait(3)\n",
    "    tmp = driver.find_elements(By.CSS_SELECTOR, \"#artcInfo > .detail_info_list\")\n",
    "    \n",
    "    driver.implicitly_wait(3)\n",
    "    face_type2.append(tmp[1].text[9:])\n",
    "    \n",
    "    print(count,\".\", tmp[1].text[9:])\n",
    "    count += 1"
   ]
  },
  {
   "cell_type": "code",
   "execution_count": 184,
   "id": "4f130628",
   "metadata": {},
   "outputs": [],
   "source": [
    "# 상품이 없을 경우 실행\n",
    "# count += 1\n",
    "# face_type2.append(\" \")"
   ]
  },
  {
   "cell_type": "code",
   "execution_count": 247,
   "id": "60bdafd3",
   "metadata": {},
   "outputs": [
    {
     "name": "stdout",
     "output_type": "stream",
     "text": [
      "113\n",
      "1170\n"
     ]
    }
   ],
   "source": [
    "print(count)\n",
    "print(len(face_type2))"
   ]
  },
  {
   "cell_type": "code",
   "execution_count": 190,
   "id": "4ad45216",
   "metadata": {},
   "outputs": [],
   "source": [
    "with open('face_type2.pickle', 'wb') as f:\n",
    "    pickle.dump(face_type2, f)"
   ]
  },
  {
   "cell_type": "markdown",
   "id": "cd7af251",
   "metadata": {},
   "source": [
    "#### 미스트/오일"
   ]
  },
  {
   "cell_type": "code",
   "execution_count": 225,
   "id": "03c64ac4",
   "metadata": {},
   "outputs": [
    {
     "name": "stderr",
     "output_type": "stream",
     "text": [
      "100%|████████████████████████████████████████████████████████████████████████████████████| 5/5 [00:03<00:00,  1.28it/s]\n"
     ]
    }
   ],
   "source": [
    "array = []\n",
    "\n",
    "for i in tqdm(range(1, 6)):\n",
    "    url = f'https://www.oliveyoung.co.kr/store/display/getMCategoryList.do?dispCatNo=100000100010010&fltDispCatNo=&prdSort=01&pageIdx={i}&rowsPerPage=24&searchTypeSort=btn_thumb&plusButtonFlag=N&isLoginCnt=0&aShowCnt=&bShowCnt=&cShowCnt=&trackingCd=Cat100000100010010_Small'\n",
    "    response = requests.get(url)\n",
    "    dom = BeautifulSoup(response.text, 'html.parser')\n",
    "    test = dom.select('.cate_prd_list > li')\n",
    "    for j in range(len(test)):\n",
    "        array.append(test[j]['criteo-goods'][0:-3])"
   ]
  },
  {
   "cell_type": "code",
   "execution_count": 226,
   "id": "5f422e6a",
   "metadata": {},
   "outputs": [
    {
     "data": {
      "text/plain": [
       "113"
      ]
     },
     "execution_count": 226,
     "metadata": {},
     "output_type": "execute_result"
    }
   ],
   "source": [
    "# 113\n",
    "len(array)"
   ]
  },
  {
   "cell_type": "code",
   "execution_count": null,
   "id": "e24e6fd1",
   "metadata": {},
   "outputs": [],
   "source": [
    "driver = webdriver.Chrome()\n",
    "face_type3 = []\n",
    "count = 0"
   ]
  },
  {
   "cell_type": "code",
   "execution_count": null,
   "id": "d67d8815",
   "metadata": {},
   "outputs": [],
   "source": [
    "for i in array:\n",
    "    url = f'https://www.oliveyoung.co.kr/store/goods/getGoodsDetail.do?goodsNo={i}&dispCatNo=100000100010008&trackingCd=Cat100000100010008_Small'\n",
    "    driver.get(url)\n",
    "    search = driver.find_element(\"id\", \"buyInfo\")\n",
    "    search.click()\n",
    "    \n",
    "    driver.implicitly_wait(3)\n",
    "    tmp = driver.find_elements(By.CSS_SELECTOR, \"#artcInfo > .detail_info_list\")\n",
    "    \n",
    "    driver.implicitly_wait(3)\n",
    "    face_type3.append(tmp[1].text[9:])\n",
    "    \n",
    "    print(count,\".\", tmp[1].text[9:])\n",
    "    count += 1"
   ]
  },
  {
   "cell_type": "code",
   "execution_count": null,
   "id": "ac743fb5",
   "metadata": {},
   "outputs": [],
   "source": [
    "# 상품이 없을 경우 실행\n",
    "# count += 1\n",
    "# face_type2.append(\" \")"
   ]
  },
  {
   "cell_type": "code",
   "execution_count": null,
   "id": "b3f94c18",
   "metadata": {},
   "outputs": [],
   "source": [
    "print(count)\n",
    "print(len(face_type3))"
   ]
  },
  {
   "cell_type": "code",
   "execution_count": null,
   "id": "37213e6b",
   "metadata": {},
   "outputs": [],
   "source": [
    "with open('face_type3.pickle', 'wb') as f:\n",
    "    pickle.dump(face_type3, f)"
   ]
  },
  {
   "cell_type": "markdown",
   "id": "62fc6385",
   "metadata": {},
   "source": [
    "## 토너/로션/올인원"
   ]
  },
  {
   "cell_type": "code",
   "execution_count": 228,
   "id": "68bd60cc",
   "metadata": {},
   "outputs": [],
   "source": [
    "key_brand, key_name, key_price = [], [], []"
   ]
  },
  {
   "cell_type": "code",
   "execution_count": 229,
   "id": "97def792",
   "metadata": {},
   "outputs": [
    {
     "name": "stderr",
     "output_type": "stream",
     "text": [
      "100%|██████████████████████████████████████████████████████████████████████████████████| 33/33 [00:14<00:00,  2.26it/s]\n"
     ]
    }
   ],
   "source": [
    "for i in tqdm(range(1, 34)):\n",
    "    url = f'https://www.oliveyoung.co.kr/store/display/getMCategoryList.do?dispCatNo=100000100010008&fltDispCatNo=&prdSort=01&pageIdx={i}&rowsPerPage=24&searchTypeSort=btn_thumb&plusButtonFlag=N&isLoginCnt=0&aShowCnt=0&bShowCnt=0&cShowCnt=0&trackingCd=Cat100000100010008_Small'\n",
    "    response = requests.get(url)\n",
    "    dom = BeautifulSoup(response.text, 'html.parser')\n",
    "    \n",
    "    # 기업명\n",
    "    tx_brands = dom.select('.tx_brand')\n",
    "    for tx_brand in tx_brands:\n",
    "        brand = tx_brand.text    \n",
    "        key_brand.append(brand)\n",
    "\n",
    "    # 상품명\n",
    "    tx_names = dom.select('.tx_name')\n",
    "    for tx_name in tx_names:\n",
    "        name = tx_name.text    \n",
    "        key_name.append(name)\n",
    "\n",
    "    # 가격\n",
    "    tx_prices = dom.select('.tx_cur')\n",
    "    for tx_price in tx_prices:\n",
    "        price = tx_price.text    \n",
    "        key_price.append(price)"
   ]
  },
  {
   "cell_type": "code",
   "execution_count": 242,
   "id": "0d58d6cd",
   "metadata": {},
   "outputs": [
    {
     "data": {
      "text/plain": [
       "2049"
      ]
     },
     "execution_count": 242,
     "metadata": {},
     "output_type": "execute_result"
    }
   ],
   "source": [
    "# 773\n",
    "len(key_brand)"
   ]
  },
  {
   "cell_type": "markdown",
   "id": "d50653e5",
   "metadata": {},
   "source": [
    "## 에센스/크림"
   ]
  },
  {
   "cell_type": "code",
   "execution_count": 231,
   "id": "3a381300",
   "metadata": {},
   "outputs": [
    {
     "name": "stderr",
     "output_type": "stream",
     "text": [
      "100%|██████████████████████████████████████████████████████████████████████████████████| 49/49 [00:43<00:00,  1.12it/s]\n"
     ]
    }
   ],
   "source": [
    "for i in tqdm(range(1, 50)):\n",
    "    url = f'https://www.oliveyoung.co.kr/store/display/getMCategoryList.do?dispCatNo=100000100010009&fltDispCatNo=&prdSort=01&pageIdx={i}&rowsPerPage=24&searchTypeSort=btn_thumb&plusButtonFlag=N&isLoginCnt=0&aShowCnt=0&bShowCnt=0&cShowCnt=0&trackingCd=Cat100000100010009_Small'\n",
    "    response = requests.get(url)\n",
    "    dom = BeautifulSoup(response.text, 'html.parser')\n",
    "    \n",
    "    # 기업명\n",
    "    tx_brands = dom.select('.tx_brand')\n",
    "    for tx_brand in tx_brands:\n",
    "        brand = tx_brand.text    \n",
    "        key_brand.append(brand)\n",
    "\n",
    "    # 상품명\n",
    "    tx_names = dom.select('.tx_name')\n",
    "    for tx_name in tx_names:\n",
    "        name = tx_name.text    \n",
    "        key_name.append(name)\n",
    "\n",
    "    # 가격\n",
    "    tx_prices = dom.select('.tx_cur')\n",
    "    for tx_price in tx_prices:\n",
    "        price = tx_price.text    \n",
    "        key_price.append(price)"
   ]
  },
  {
   "cell_type": "code",
   "execution_count": 232,
   "id": "dd52397d",
   "metadata": {},
   "outputs": [
    {
     "data": {
      "text/plain": [
       "1936"
      ]
     },
     "execution_count": 232,
     "metadata": {},
     "output_type": "execute_result"
    }
   ],
   "source": [
    "# 1163 + 773 = 1936\n",
    "len(key_price)"
   ]
  },
  {
   "cell_type": "markdown",
   "id": "7088b5ae",
   "metadata": {},
   "source": [
    "## 미스트/오일"
   ]
  },
  {
   "cell_type": "code",
   "execution_count": 233,
   "id": "ea938aea",
   "metadata": {},
   "outputs": [
    {
     "name": "stderr",
     "output_type": "stream",
     "text": [
      "100%|████████████████████████████████████████████████████████████████████████████████████| 5/5 [00:03<00:00,  1.34it/s]\n"
     ]
    }
   ],
   "source": [
    "for i in tqdm(range(1, 6)):\n",
    "    url = f'https://www.oliveyoung.co.kr/store/display/getMCategoryList.do?dispCatNo=100000100010010&fltDispCatNo=&prdSort=01&pageIdx={i}&rowsPerPage=24&searchTypeSort=btn_thumb&plusButtonFlag=N&isLoginCnt=0&aShowCnt=0&bShowCnt=0&cShowCnt=0&trackingCd=Cat100000100010010_Small'\n",
    "    response = requests.get(url)\n",
    "    dom = BeautifulSoup(response.text, 'html.parser')\n",
    "    \n",
    "    # 기업명\n",
    "    tx_brands = dom.select('.tx_brand')\n",
    "    for tx_brand in tx_brands:\n",
    "        brand = tx_brand.text    \n",
    "        key_brand.append(brand)\n",
    "\n",
    "    # 상품명\n",
    "    tx_names = dom.select('.tx_name')\n",
    "    for tx_name in tx_names:\n",
    "        name = tx_name.text    \n",
    "        key_name.append(name)\n",
    "\n",
    "    # 가격\n",
    "    tx_prices = dom.select('.tx_cur')\n",
    "    for tx_price in tx_prices:\n",
    "        price = tx_price.text    \n",
    "        key_price.append(price)"
   ]
  },
  {
   "cell_type": "code",
   "execution_count": 244,
   "id": "5239592b",
   "metadata": {},
   "outputs": [
    {
     "data": {
      "text/plain": [
       "2049"
      ]
     },
     "execution_count": 244,
     "metadata": {},
     "output_type": "execute_result"
    }
   ],
   "source": [
    "# # 1163 + 773 + 113\n",
    "len(key_brand)"
   ]
  },
  {
   "cell_type": "markdown",
   "id": "8b2da3aa",
   "metadata": {},
   "source": [
    "## 병합"
   ]
  },
  {
   "cell_type": "code",
   "execution_count": 235,
   "id": "7f0c47e0",
   "metadata": {},
   "outputs": [],
   "source": [
    "df = pd.DataFrame(columns = ['기업명', '제품명', '가격'])\n",
    "for b, n, p in zip(key_brand, key_name, key_price):\n",
    "    df = df.append({'기업명': b, '제품명':n, '가격':p}, ignore_index=True)"
   ]
  },
  {
   "cell_type": "code",
   "execution_count": 236,
   "id": "5385d72b",
   "metadata": {},
   "outputs": [
    {
     "data": {
      "text/html": [
       "<div>\n",
       "<style scoped>\n",
       "    .dataframe tbody tr th:only-of-type {\n",
       "        vertical-align: middle;\n",
       "    }\n",
       "\n",
       "    .dataframe tbody tr th {\n",
       "        vertical-align: top;\n",
       "    }\n",
       "\n",
       "    .dataframe thead th {\n",
       "        text-align: right;\n",
       "    }\n",
       "</style>\n",
       "<table border=\"1\" class=\"dataframe\">\n",
       "  <thead>\n",
       "    <tr style=\"text-align: right;\">\n",
       "      <th></th>\n",
       "      <th>기업명</th>\n",
       "      <th>제품명</th>\n",
       "      <th>가격</th>\n",
       "    </tr>\n",
       "  </thead>\n",
       "  <tbody>\n",
       "    <tr>\n",
       "      <th>0</th>\n",
       "      <td>아누아</td>\n",
       "      <td>[2022어워즈]아누아 어성초 77 토너 어워즈 한정 기획 (500ml+250ml)</td>\n",
       "      <td>35,000원</td>\n",
       "    </tr>\n",
       "    <tr>\n",
       "      <th>1</th>\n",
       "      <td>아이디얼포맨</td>\n",
       "      <td>[4년연속 맨즈케어1등]아이디얼포맨 퍼펙트올인원밀크 어워즈 한정기획(2022)</td>\n",
       "      <td>19,710원</td>\n",
       "    </tr>\n",
       "    <tr>\n",
       "      <th>2</th>\n",
       "      <td>라로슈포제</td>\n",
       "      <td>라로슈포제 시카플라스트 로션 B5 판테놀 시카에센스 토너 200ml</td>\n",
       "      <td>20,900원</td>\n",
       "    </tr>\n",
       "    <tr>\n",
       "      <th>3</th>\n",
       "      <td>넘버즈인</td>\n",
       "      <td>[대용량+미니어처] 넘버즈인 3번 결광가득 에센스 토너 300ml 어워즈 한정기획 ...</td>\n",
       "      <td>24,000원</td>\n",
       "    </tr>\n",
       "    <tr>\n",
       "      <th>4</th>\n",
       "      <td>디오디너리</td>\n",
       "      <td>디오디너리 글리코릭 애시드 7% 토닝 솔루션 240ml</td>\n",
       "      <td>11,900원</td>\n",
       "    </tr>\n",
       "    <tr>\n",
       "      <th>...</th>\n",
       "      <td>...</td>\n",
       "      <td>...</td>\n",
       "      <td>...</td>\n",
       "    </tr>\n",
       "    <tr>\n",
       "      <th>2044</th>\n",
       "      <td>달팡</td>\n",
       "      <td>달팡 로즈 아로마틱 케어 15ml</td>\n",
       "      <td>61,200원</td>\n",
       "    </tr>\n",
       "    <tr>\n",
       "      <th>2045</th>\n",
       "      <td>한율</td>\n",
       "      <td>한율 달빛유자페이스오일 30ML</td>\n",
       "      <td>38,000원</td>\n",
       "    </tr>\n",
       "    <tr>\n",
       "      <th>2046</th>\n",
       "      <td>셀라피</td>\n",
       "      <td>셀라피 에이리페어 크림 미스트 150ml (R)</td>\n",
       "      <td>24,000원</td>\n",
       "    </tr>\n",
       "    <tr>\n",
       "      <th>2047</th>\n",
       "      <td>네오젠</td>\n",
       "      <td>네오젠 올 데이 락킹 픽서 미스트 80ml (메이크업픽서)</td>\n",
       "      <td>14,400원</td>\n",
       "    </tr>\n",
       "    <tr>\n",
       "      <th>2048</th>\n",
       "      <td>시드물</td>\n",
       "      <td>시드물 비 테라피 미스트 120ml</td>\n",
       "      <td>15,800원</td>\n",
       "    </tr>\n",
       "  </tbody>\n",
       "</table>\n",
       "<p>2049 rows × 3 columns</p>\n",
       "</div>"
      ],
      "text/plain": [
       "         기업명                                                제품명        가격\n",
       "0        아누아     [2022어워즈]아누아 어성초 77 토너 어워즈 한정 기획 (500ml+250ml)  35,000원 \n",
       "1     아이디얼포맨        [4년연속 맨즈케어1등]아이디얼포맨 퍼펙트올인원밀크 어워즈 한정기획(2022)  19,710원 \n",
       "2      라로슈포제              라로슈포제 시카플라스트 로션 B5 판테놀 시카에센스 토너 200ml  20,900원 \n",
       "3       넘버즈인  [대용량+미니어처] 넘버즈인 3번 결광가득 에센스 토너 300ml 어워즈 한정기획 ...  24,000원 \n",
       "4      디오디너리                     디오디너리 글리코릭 애시드 7% 토닝 솔루션 240ml  11,900원 \n",
       "...      ...                                                ...       ...\n",
       "2044      달팡                                 달팡 로즈 아로마틱 케어 15ml  61,200원 \n",
       "2045      한율                                  한율 달빛유자페이스오일 30ML  38,000원 \n",
       "2046     셀라피                         셀라피 에이리페어 크림 미스트 150ml (R)  24,000원 \n",
       "2047     네오젠                   네오젠 올 데이 락킹 픽서 미스트 80ml (메이크업픽서)  14,400원 \n",
       "2048     시드물                                시드물 비 테라피 미스트 120ml  15,800원 \n",
       "\n",
       "[2049 rows x 3 columns]"
      ]
     },
     "execution_count": 236,
     "metadata": {},
     "output_type": "execute_result"
    }
   ],
   "source": [
    "df"
   ]
  },
  {
   "cell_type": "code",
   "execution_count": 237,
   "id": "c453ed30",
   "metadata": {},
   "outputs": [],
   "source": [
    "df.to_csv('olive_young.csv')"
   ]
  },
  {
   "cell_type": "markdown",
   "id": "516682ce",
   "metadata": {},
   "source": [
    "### read csv"
   ]
  },
  {
   "cell_type": "code",
   "execution_count": 2,
   "id": "ab03f832",
   "metadata": {},
   "outputs": [
    {
     "data": {
      "text/plain": [
       "2049"
      ]
     },
     "execution_count": 2,
     "metadata": {},
     "output_type": "execute_result"
    }
   ],
   "source": [
    "df = pd.read_csv('olive_young.csv', index_col = 0)\n",
    "len(df)"
   ]
  },
  {
   "cell_type": "code",
   "execution_count": 3,
   "id": "c37c34c5",
   "metadata": {},
   "outputs": [
    {
     "data": {
      "text/plain": [
       "2049"
      ]
     },
     "execution_count": 3,
     "metadata": {},
     "output_type": "execute_result"
    }
   ],
   "source": [
    "with open(\"face_type1.pickle\",\"rb\") as fi:\n",
    "    face1 = pickle.load(fi)\n",
    "    \n",
    "with open(\"face_type2.pickle\",\"rb\") as fi:\n",
    "    face2 = pickle.load(fi)\n",
    "    \n",
    "with open(\"face_type3.pickle\",\"rb\") as fi:\n",
    "    face3 = pickle.load(fi)\n",
    "    \n",
    "face_all = face1 + face2 + face3\n",
    "len(face_all)"
   ]
  },
  {
   "cell_type": "code",
   "execution_count": 4,
   "id": "4ab2d702",
   "metadata": {
    "scrolled": false
   },
   "outputs": [],
   "source": [
    "df['피부타입'] = face_all"
   ]
  },
  {
   "cell_type": "code",
   "execution_count": 7,
   "id": "4e4094bb",
   "metadata": {},
   "outputs": [
    {
     "data": {
      "text/html": [
       "<div>\n",
       "<style scoped>\n",
       "    .dataframe tbody tr th:only-of-type {\n",
       "        vertical-align: middle;\n",
       "    }\n",
       "\n",
       "    .dataframe tbody tr th {\n",
       "        vertical-align: top;\n",
       "    }\n",
       "\n",
       "    .dataframe thead th {\n",
       "        text-align: right;\n",
       "    }\n",
       "</style>\n",
       "<table border=\"1\" class=\"dataframe\">\n",
       "  <thead>\n",
       "    <tr style=\"text-align: right;\">\n",
       "      <th></th>\n",
       "      <th>기업명</th>\n",
       "      <th>제품명</th>\n",
       "      <th>가격</th>\n",
       "      <th>피부타입</th>\n",
       "    </tr>\n",
       "  </thead>\n",
       "  <tbody>\n",
       "    <tr>\n",
       "      <th>0</th>\n",
       "      <td>아누아</td>\n",
       "      <td>[2022어워즈]아누아 어성초 77 토너 어워즈 한정 기획 (500ml+250ml)</td>\n",
       "      <td>35,000원</td>\n",
       "      <td>모든피부용</td>\n",
       "    </tr>\n",
       "    <tr>\n",
       "      <th>1</th>\n",
       "      <td>아이디얼포맨</td>\n",
       "      <td>[4년연속 맨즈케어1등]아이디얼포맨 퍼펙트올인원밀크 어워즈 한정기획(2022)</td>\n",
       "      <td>19,710원</td>\n",
       "      <td>모든 피부 타입</td>\n",
       "    </tr>\n",
       "    <tr>\n",
       "      <th>2</th>\n",
       "      <td>라로슈포제</td>\n",
       "      <td>라로슈포제 시카플라스트 로션 B5 판테놀 시카에센스 토너 200ml</td>\n",
       "      <td>20,900원</td>\n",
       "      <td>민감성 및 모든 피부에 사용 적합</td>\n",
       "    </tr>\n",
       "    <tr>\n",
       "      <th>3</th>\n",
       "      <td>넘버즈인</td>\n",
       "      <td>[대용량+미니어처] 넘버즈인 3번 결광가득 에센스 토너 300ml 어워즈 한정기획 ...</td>\n",
       "      <td>24,000원</td>\n",
       "      <td>모든 피부 용</td>\n",
       "    </tr>\n",
       "    <tr>\n",
       "      <th>4</th>\n",
       "      <td>디오디너리</td>\n",
       "      <td>디오디너리 글리코릭 애시드 7% 토닝 솔루션 240ml</td>\n",
       "      <td>11,900원</td>\n",
       "      <td>모든피부타입</td>\n",
       "    </tr>\n",
       "    <tr>\n",
       "      <th>...</th>\n",
       "      <td>...</td>\n",
       "      <td>...</td>\n",
       "      <td>...</td>\n",
       "      <td>...</td>\n",
       "    </tr>\n",
       "    <tr>\n",
       "      <th>2044</th>\n",
       "      <td>달팡</td>\n",
       "      <td>달팡 로즈 아로마틱 케어 15ml</td>\n",
       "      <td>61,200원</td>\n",
       "      <td>모든 피부용</td>\n",
       "    </tr>\n",
       "    <tr>\n",
       "      <th>2045</th>\n",
       "      <td>한율</td>\n",
       "      <td>한율 달빛유자페이스오일 30ML</td>\n",
       "      <td>38,000원</td>\n",
       "      <td>비타 오일 콤플렉스™의 항산화력과 유자 껍질 오일의 건강한 윤기에 ‘달빛 유자향’의...</td>\n",
       "    </tr>\n",
       "    <tr>\n",
       "      <th>2046</th>\n",
       "      <td>셀라피</td>\n",
       "      <td>셀라피 에이리페어 크림 미스트 150ml (R)</td>\n",
       "      <td>24,000원</td>\n",
       "      <td>모든피부/민감성피부</td>\n",
       "    </tr>\n",
       "    <tr>\n",
       "      <th>2047</th>\n",
       "      <td>네오젠</td>\n",
       "      <td>네오젠 올 데이 락킹 픽서 미스트 80ml (메이크업픽서)</td>\n",
       "      <td>14,400원</td>\n",
       "      <td>모든피부용</td>\n",
       "    </tr>\n",
       "    <tr>\n",
       "      <th>2048</th>\n",
       "      <td>시드물</td>\n",
       "      <td>시드물 비 테라피 미스트 120ml</td>\n",
       "      <td>15,800원</td>\n",
       "      <td>모든 피부용</td>\n",
       "    </tr>\n",
       "  </tbody>\n",
       "</table>\n",
       "<p>2049 rows × 4 columns</p>\n",
       "</div>"
      ],
      "text/plain": [
       "         기업명                                                제품명        가격  \\\n",
       "0        아누아     [2022어워즈]아누아 어성초 77 토너 어워즈 한정 기획 (500ml+250ml)  35,000원    \n",
       "1     아이디얼포맨        [4년연속 맨즈케어1등]아이디얼포맨 퍼펙트올인원밀크 어워즈 한정기획(2022)  19,710원    \n",
       "2      라로슈포제              라로슈포제 시카플라스트 로션 B5 판테놀 시카에센스 토너 200ml  20,900원    \n",
       "3       넘버즈인  [대용량+미니어처] 넘버즈인 3번 결광가득 에센스 토너 300ml 어워즈 한정기획 ...  24,000원    \n",
       "4      디오디너리                     디오디너리 글리코릭 애시드 7% 토닝 솔루션 240ml  11,900원    \n",
       "...      ...                                                ...       ...   \n",
       "2044      달팡                                 달팡 로즈 아로마틱 케어 15ml  61,200원    \n",
       "2045      한율                                  한율 달빛유자페이스오일 30ML  38,000원    \n",
       "2046     셀라피                         셀라피 에이리페어 크림 미스트 150ml (R)  24,000원    \n",
       "2047     네오젠                   네오젠 올 데이 락킹 픽서 미스트 80ml (메이크업픽서)  14,400원    \n",
       "2048     시드물                                시드물 비 테라피 미스트 120ml  15,800원    \n",
       "\n",
       "                                                   피부타입  \n",
       "0                                                 모든피부용  \n",
       "1                                              모든 피부 타입  \n",
       "2                                    민감성 및 모든 피부에 사용 적합  \n",
       "3                                               모든 피부 용  \n",
       "4                                                모든피부타입  \n",
       "...                                                 ...  \n",
       "2044                                             모든 피부용  \n",
       "2045  비타 오일 콤플렉스™의 항산화력과 유자 껍질 오일의 건강한 윤기에 ‘달빛 유자향’의...  \n",
       "2046                                         모든피부/민감성피부  \n",
       "2047                                              모든피부용  \n",
       "2048                                             모든 피부용  \n",
       "\n",
       "[2049 rows x 4 columns]"
      ]
     },
     "execution_count": 7,
     "metadata": {},
     "output_type": "execute_result"
    }
   ],
   "source": [
    "df"
   ]
  },
  {
   "cell_type": "code",
   "execution_count": 6,
   "id": "54c28a33",
   "metadata": {},
   "outputs": [],
   "source": [
    "df.to_csv('olive_young_final.csv')"
   ]
  },
  {
   "cell_type": "code",
   "execution_count": null,
   "id": "4c4e8509",
   "metadata": {},
   "outputs": [],
   "source": []
  }
 ],
 "metadata": {
  "kernelspec": {
   "display_name": "Python 3",
   "language": "python",
   "name": "python3"
  },
  "language_info": {
   "codemirror_mode": {
    "name": "ipython",
    "version": 3
   },
   "file_extension": ".py",
   "mimetype": "text/x-python",
   "name": "python",
   "nbconvert_exporter": "python",
   "pygments_lexer": "ipython3",
   "version": "3.8.8"
  }
 },
 "nbformat": 4,
 "nbformat_minor": 5
}
